{
 "cells": [
  {
   "cell_type": "code",
   "execution_count": 6,
   "metadata": {
    "collapsed": false
   },
   "outputs": [
    {
     "name": "stdout",
     "output_type": "stream",
     "text": [
      "[\"_replicator\",\"_users\",\"albums\",\"demo\",\"demo-rep\",\"music\",\"myapp\",\"registry\",\"storyship\",\"talk\",\"test_suite_db\",\"test_suite_db2\"]\r\n"
     ]
    }
   ],
   "source": [
    "curl http://127.0.0.1:5984/_all_dbs"
   ]
  }
 ],
 "metadata": {
  "kernelspec": {
   "display_name": "Bash",
   "language": "bash",
   "name": "bash"
  },
  "language_info": {
   "codemirror_mode": "shell",
   "file_extension": ".sh",
   "mimetype": "text/x-sh",
   "name": "bash"
  }
 },
 "nbformat": 4,
 "nbformat_minor": 0
}
