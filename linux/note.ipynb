{
 "cells": [
  {
   "cell_type": "code",
   "execution_count": null,
   "metadata": {
    "collapsed": true
   },
   "outputs": [],
   "source": [
    "# 新增用户和用户组\n",
    "useradd someone -G somegroup\n",
    "\n",
    "# 添加用户到用户组\n",
    "usermod -G somegroup -a someone"
   ]
  },
  {
   "cell_type": "code",
   "execution_count": 1,
   "metadata": {
    "collapsed": false
   },
   "outputs": [
    {
     "name": "stdout",
     "output_type": "stream",
     "text": []
    }
   ],
   "source": [
    "# Jobs\n",
    "jobs -l\n",
    "# Kill all jobs\n",
    "kill $(jobs -p)"
   ]
  },
  {
   "cell_type": "code",
   "execution_count": null,
   "metadata": {
    "collapsed": true
   },
   "outputs": [],
   "source": [
    "# 查找所有纯文本文件\n",
    "# http://stackoverflow.com/questions/4767396/linux-command-how-to-find-only-text-files\n",
    "find . -type f -exec grep -Iq . {} \\; -and -print"
   ]
  }
 ],
 "metadata": {
  "kernelspec": {
   "display_name": "Bash",
   "language": "bash",
   "name": "bash"
  },
  "language_info": {
   "codemirror_mode": "shell",
   "file_extension": ".sh",
   "mimetype": "text/x-sh",
   "name": "bash"
  }
 },
 "nbformat": 4,
 "nbformat_minor": 0
}
