{
 "cells": [
  {
   "cell_type": "markdown",
   "metadata": {
    "collapsed": true
   },
   "source": [
    "### Array\n",
    "http://stackoverflow.com/questions/8880603/loop-through-array-of-strings-in-bash-script"
   ]
  },
  {
   "cell_type": "code",
   "execution_count": 27,
   "metadata": {
    "collapsed": false
   },
   "outputs": [
    {
     "name": "stdout",
     "output_type": "stream",
     "text": [
      "foo bar\r\n",
      "ABC\r\n",
      "EF  TG\r\n"
     ]
    }
   ],
   "source": [
    "ARRAY=()\n",
    "ARRAY+=('foo')\n",
    "ARRAY+=('bar')\n",
    "echo ${ARRAY[@]}\n",
    "\n",
    "ARR=(\"ABC\" \"EF  TG\")\n",
    "for STR in \"${ARR[@]}\"; do\n",
    "  echo \"$STR\"\n",
    "done"
   ]
  },
  {
   "cell_type": "markdown",
   "metadata": {},
   "source": [
    "### Range"
   ]
  },
  {
   "cell_type": "code",
   "execution_count": 7,
   "metadata": {
    "collapsed": false
   },
   "outputs": [
    {
     "name": "stdout",
     "output_type": "stream",
     "text": [
      "0\r\n",
      "1\r\n",
      "2\r\n",
      "3\r\n",
      "4\r\n",
      "5\r\n",
      "6\r\n",
      "7\r\n",
      "8\r\n",
      "9\r\n",
      "10\r\n",
      "1\r\n",
      "2\r\n",
      "3\r\n",
      "4\r\n",
      "5\r\n",
      "6\r\n",
      "7\r\n",
      "8\r\n",
      "9\r\n",
      "10\r\n",
      "10\r\n",
      "10\r\n",
      "10\r\n",
      "10\r\n",
      "10\r\n",
      "10\r\n",
      "10\r\n",
      "10\r\n",
      "10\r\n",
      "10\r\n",
      "10\r\n"
     ]
    }
   ],
   "source": [
    "for i in {0..10}; do echo $i; done\n",
    "for i in `seq 10`; do echo $i; done;\n",
    "max=10; for in in `seq 0 $max`; do echo $i; done;"
   ]
  },
  {
   "cell_type": "markdown",
   "metadata": {},
   "source": [
    "### EOF"
   ]
  },
  {
   "cell_type": "code",
   "execution_count": 9,
   "metadata": {
    "collapsed": false
   },
   "outputs": [
    {
     "name": "stdout",
     "output_type": "stream",
     "text": [
      "echo 1\r\n"
     ]
    }
   ],
   "source": [
    "cat <<EOF\n",
    "echo 1\n",
    "EOF"
   ]
  },
  {
   "cell_type": "markdown",
   "metadata": {},
   "source": [
    "### 默认值"
   ]
  },
  {
   "cell_type": "code",
   "execution_count": 13,
   "metadata": {
    "collapsed": false
   },
   "outputs": [
    {
     "name": "stdout",
     "output_type": "stream",
     "text": [
      "1024\r\n"
     ]
    }
   ],
   "source": [
    "DEFAULT=1024\n",
    "PORT=${1:-$DEFAULT}\n",
    "echo $PORT"
   ]
  },
  {
   "cell_type": "markdown",
   "metadata": {},
   "source": [
    "### 截取字符串最后一个字符"
   ]
  },
  {
   "cell_type": "code",
   "execution_count": 15,
   "metadata": {
    "collapsed": false
   },
   "outputs": [
    {
     "name": "stdout",
     "output_type": "stream",
     "text": [
      "E\r\n"
     ]
    }
   ],
   "source": [
    "STRING=\"ABCDE\"\n",
    "echo ${STRING:$((${#STRING} - 1)):1}"
   ]
  },
  {
   "cell_type": "markdown",
   "metadata": {},
   "source": [
    "### Pipe"
   ]
  },
  {
   "cell_type": "code",
   "execution_count": 19,
   "metadata": {
    "collapsed": false
   },
   "outputs": [
    {
     "name": "stdout",
     "output_type": "stream",
     "text": [
      "hello world\r\n",
      "hello world\r\n"
     ]
    }
   ],
   "source": [
    "echo \"hello world\" | { read text; echo $text; }\n",
    "cat <<EOF | { read text; echo $text; }\n",
    "hello world\n",
    "EOF"
   ]
  },
  {
   "cell_type": "markdown",
   "metadata": {},
   "source": [
    "### Echo to stderr"
   ]
  },
  {
   "cell_type": "code",
   "execution_count": 21,
   "metadata": {
    "collapsed": false
   },
   "outputs": [
    {
     "name": "stdout",
     "output_type": "stream",
     "text": [
      "error\r\n"
     ]
    }
   ],
   "source": [
    ">&2 echo \"error\""
   ]
  },
  {
   "cell_type": "markdown",
   "metadata": {},
   "source": [
    "### Cut string"
   ]
  },
  {
   "cell_type": "code",
   "execution_count": 22,
   "metadata": {
    "collapsed": false
   },
   "outputs": [
    {
     "name": "stdout",
     "output_type": "stream",
     "text": [
      "4087507e27553beda51103bfc2bacd4ef63411a6\r\n"
     ]
    }
   ],
   "source": [
    "echo 4087507e27553beda51103bfc2bacd4ef63411a6 refs/remotes/origin/HEAD | cut -d ' ' -f1"
   ]
  },
  {
   "cell_type": "markdown",
   "metadata": {},
   "source": [
    "### Compare two line of git ref"
   ]
  },
  {
   "cell_type": "code",
   "execution_count": 23,
   "metadata": {
    "collapsed": false
   },
   "outputs": [
    {
     "name": "stdout",
     "output_type": "stream",
     "text": [
      "1"
     ]
    }
   ],
   "source": [
    "git show-ref master | cut -d ' ' -f1 | uniq | wc -l | tr -d '[[:space:]]'"
   ]
  },
  {
   "cell_type": "markdown",
   "metadata": {},
   "source": [
    "### Pushd/dirs/popd"
   ]
  },
  {
   "cell_type": "code",
   "execution_count": 6,
   "metadata": {
    "collapsed": false
   },
   "outputs": [
    {
     "name": "stdout",
     "output_type": "stream",
     "text": [
      "[Origin dirs stack]         ~/coding/conf/ruby ~/coding/conf/linux\r\n",
      "[Push and enter new dir]    ~/coding/conf/ruby ~/coding/conf/ruby ~/coding/conf/linux\r\n",
      "[New dirs stack]            ~/coding/conf/ruby ~/coding/conf/linux\r\n",
      "[Pop last dir]              ~/coding/conf/linux\r\n"
     ]
    }
   ],
   "source": [
    "echo -e \"[Origin dirs stack]        \" `dirs`\n",
    "echo -e \"[Push and enter new dir]   \" `pushd ~/coding/conf/ruby`\n",
    "echo -e \"[New dirs stack]           \" `dirs`\n",
    "echo -e \"[Pop last dir]             \" `popd`"
   ]
  },
  {
   "cell_type": "markdown",
   "metadata": {},
   "source": [
    "### 检测到未设置变量时报错并退出程序"
   ]
  },
  {
   "cell_type": "code",
   "execution_count": null,
   "metadata": {
    "collapsed": true
   },
   "outputs": [],
   "source": [
    "echo $undefined-ok\n",
    "# -e 报错时退出，-u 报错处理未设置变量\n",
    "set -eu\n",
    "echo $undefined-ok\n",
    "# 恢复设置\n",
    "set +eu"
   ]
  },
  {
   "cell_type": "markdown",
   "metadata": {},
   "source": [
    "### `trap` 捕获信号并执行命令"
   ]
  },
  {
   "cell_type": "code",
   "execution_count": null,
   "metadata": {
    "collapsed": true
   },
   "outputs": [],
   "source": [
    "function handle_exit {\n",
    "  echo -e \"Exit without error.\"\n",
    "  exit\n",
    "}\n",
    "\n",
    "trap \"set +x; handle_exit\" SIGQUIT SIGTERM SIGINT SIGHUP"
   ]
  }
 ],
 "metadata": {
  "kernelspec": {
   "display_name": "Bash",
   "language": "bash",
   "name": "bash"
  },
  "language_info": {
   "codemirror_mode": "shell",
   "file_extension": ".sh",
   "mimetype": "text/x-sh",
   "name": "bash"
  }
 },
 "nbformat": 4,
 "nbformat_minor": 0
}
