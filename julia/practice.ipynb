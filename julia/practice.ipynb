{
 "cells": [
  {
   "cell_type": "code",
   "execution_count": 52,
   "metadata": {},
   "outputs": [
    {
     "data": {
      "text/plain": [
       "10×3 Array{Int64,2}:\n",
       " 10  1236   1\n",
       "  8  2365   1\n",
       "  5  3001  -1\n",
       "  4  5540  -1\n",
       "  2  7317   1\n",
       "  4   929  -1\n",
       " 10  3828  -1\n",
       " 10  4577   1\n",
       "  6  5787   1\n",
       "  1   232  -1"
      ]
     },
     "execution_count": 52,
     "metadata": {},
     "output_type": "execute_result"
    }
   ],
   "source": [
    "XY = hcat(rand(1:10, 10), rand(100:10000, 10), rand([1 -1], 10))"
   ]
  },
  {
   "cell_type": "code",
   "execution_count": 48,
   "metadata": {},
   "outputs": [
    {
     "name": "stdout",
     "output_type": "stream",
     "text": [
      "(Q, R) = qr(A) = ([-0.83205 -0.5547; -0.5547 0.83205], [-3.60555 -12.2034; 0.0 11.094])\n",
      "A = [3 4; 2 16]\n",
      "A = [3 4; 2 16]\n",
      "A == A = true\n",
      "inv(A) = [0.4 -0.1; -0.05 0.075]\n",
      "pinv(A) = [0.4 -0.1; -0.05 0.075]\n"
     ]
    },
    {
     "data": {
      "text/plain": [
       "2×2 Array{Float64,2}:\n",
       "  0.4   -0.1  \n",
       " -0.05   0.075"
      ]
     },
     "execution_count": 48,
     "metadata": {},
     "output_type": "execute_result"
    }
   ],
   "source": [
    "y = o0 + o1 * x1 + o2 * x2"
   ]
  },
  {
   "cell_type": "code",
   "execution_count": 41,
   "metadata": {
    "scrolled": false
   },
   "outputs": [
    {
     "data": {
      "text/plain": [
       "3×2 Array{Float64,2}:\n",
       "  0.385714   -0.097619 \n",
       " -0.0571429   0.0761905\n",
       "  0.0714286  -0.0119048"
      ]
     },
     "execution_count": 41,
     "metadata": {},
     "output_type": "execute_result"
    }
   ],
   "source": [
    "pinv([3 4 1; 2 16 2])"
   ]
  },
  {
   "cell_type": "code",
   "execution_count": 49,
   "metadata": {},
   "outputs": [
    {
     "data": {
      "text/plain": [
       "10"
      ]
     },
     "execution_count": 49,
     "metadata": {},
     "output_type": "execute_result"
    }
   ],
   "source": [
    "[-3; 4; 3]' * [3; 1; 5]"
   ]
  }
 ],
 "metadata": {
  "kernelspec": {
   "display_name": "Julia 0.6.0",
   "language": "julia",
   "name": "julia-0.6"
  },
  "language_info": {
   "file_extension": ".jl",
   "mimetype": "application/julia",
   "name": "julia",
   "version": "0.6.0"
  }
 },
 "nbformat": 4,
 "nbformat_minor": 2
}
