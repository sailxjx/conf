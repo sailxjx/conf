{
 "cells": [
  {
   "cell_type": "markdown",
   "metadata": {},
   "source": [
    "# Start connectors"
   ]
  },
  {
   "cell_type": "code",
   "execution_count": null,
   "metadata": {
    "collapsed": true
   },
   "outputs": [],
   "source": [
    "# Start schema registry via docker\n",
    "docker run --name cp-schema-registry -p 8081:28081 \\\n",
    "    -e SCHEMA_REGISTRY_KAFKASTORE_CONNECTION_URL=192.168.0.124:32181 \\\n",
    "    -e SCHEMA_REGISTRY_HOST_NAME=schema-registry \\\n",
    "    -e SCHEMA_REGISTRY_LISTENERS=http://192.168.0.124:38081 \\\n",
    "    -d confluentinc/cp-schema-registry"
   ]
  },
  {
   "cell_type": "code",
   "execution_count": null,
   "metadata": {
    "collapsed": true
   },
   "outputs": [],
   "source": [
    "# KAFKA_ADVERTISED_LISTENERS: PLAINTEXT://192.168.0.124:39092\n",
    "# 需要使用明确的 IP 地址和 host 模式，否则外部请求会因为无法访问 docker 中的地址而出现错误"
   ]
  },
  {
   "cell_type": "code",
   "execution_count": null,
   "metadata": {
    "collapsed": true
   },
   "outputs": [],
   "source": [
    "# Standalone mongo-source-connector\n",
    "CLASSPATH=./connect-mongo-1.0-SNAPSHOT/* ./bin/connect-standalone \\\n",
    "     ./etc/connect-json-standalone.properties ./etc/connect-mongo-source.properties"
   ]
  },
  {
   "cell_type": "code",
   "execution_count": null,
   "metadata": {
    "collapsed": true
   },
   "outputs": [],
   "source": [
    "# connect-mongo-source.properties\n",
    "```\n",
    "name=mongo-source-connector\n",
    "connector.class=org.apache.kafka.connect.mongo.MongoSourceConnector\n",
    "tasks.max=1\n",
    "host=127.0.0.1\n",
    "port=27017\n",
    "batch.size=100\n",
    "schema.name=mongoschema\n",
    "topic.prefix=mongo\n",
    "```"
   ]
  },
  {
   "cell_type": "code",
   "execution_count": null,
   "metadata": {
    "collapsed": true
   },
   "outputs": [],
   "source": [
    "# Distributed mongo-source-connector\n",
    "./bin/connect-distributed etc/kafka/connect-distributed.properties"
   ]
  },
  {
   "cell_type": "markdown",
   "metadata": {},
   "source": [
    "# Rest APIS"
   ]
  },
  {
   "cell_type": "code",
   "execution_count": 10,
   "metadata": {
    "collapsed": false
   },
   "outputs": [
    {
     "name": "stdout",
     "output_type": "stream",
     "text": [
      "[\"mongo-source-local-test\"]"
     ]
    }
   ],
   "source": [
    "# Get connectors\n",
    "curl http://localhost:8083/connectors"
   ]
  },
  {
   "cell_type": "code",
   "execution_count": 1,
   "metadata": {
    "collapsed": false
   },
   "outputs": [
    {
     "name": "stdout",
     "output_type": "stream",
     "text": [
      "{\"name\":\"mongo-source-local-test\",\"config\":{\"connector.class\":\"org.apache.kafka.connect.mongo.MongoSourceConnector\",\"tasks.max\":\"1\",\"host\":\"127.0.0.1\",\"port\":\"27017\",\"batch.size\":\"100\",\"schema.name\":\"mongoschema\",\"topic.prefix\":\"mongo\",\"databases\":\"test.users\",\"name\":\"mongo-source-local-test\"},\"tasks\":[]}"
     ]
    }
   ],
   "source": [
    "# Create connector\n",
    "curl -X POST -H \"Content-Type: application/json\" http://localhost:8083/connectors -d '{\n",
    "  \"name\": \"mongo-source-local-test\",\n",
    "  \"config\": {\n",
    "    \"connector.class\": \"org.apache.kafka.connect.mongo.MongoSourceConnector\",\n",
    "    \"tasks.max\": 1,\n",
    "    \"host\": \"127.0.0.1\",\n",
    "    \"port\": 27017,\n",
    "    \"batch.size\": 100,\n",
    "    \"schema.name\": \"mongoschema\",\n",
    "    \"topic.prefix\": \"mongo\",\n",
    "    \"databases\":\"test.users\"\n",
    "  }\n",
    "}'"
   ]
  },
  {
   "cell_type": "code",
   "execution_count": 18,
   "metadata": {
    "collapsed": false
   },
   "outputs": [
    {
     "name": "stdout",
     "output_type": "stream",
     "text": [
      "{\"name\":\"mongo-source-local-test\",\"config\":{\"connector.class\":\"org.apache.kafka.connect.mongo.MongoSourceConnector\",\"tasks.max\":\"1\",\"host\":\"127.0.0.1\",\"port\":\"27017\",\"batch.size\":\"100\",\"schema.name\":\"mongoschema\",\"topic.prefix\":\"mongo\",\"databases\":\"test.users\",\"name\":\"mongo-source-local-test\"},\"tasks\":[]}"
     ]
    }
   ],
   "source": [
    "# Update connector\n",
    "curl -X PUT -H \"Content-Type: application/json\" http://localhost:8083/connectors/mongo-source-local-test/config -d '{\n",
    "    \"connector.class\": \"org.apache.kafka.connect.mongo.MongoSourceConnector\",\n",
    "    \"tasks.max\": 1,\n",
    "    \"host\": \"127.0.0.1\",\n",
    "    \"port\": 27017,\n",
    "    \"batch.size\": 100,\n",
    "    \"schema.name\": \"mongoschema\",\n",
    "    \"topic.prefix\": \"mongo\",\n",
    "    \"databases\":\"test.users\"\n",
    "}'"
   ]
  },
  {
   "cell_type": "code",
   "execution_count": 2,
   "metadata": {
    "collapsed": false
   },
   "outputs": [
    {
     "name": "stdout",
     "output_type": "stream",
     "text": []
    }
   ],
   "source": [
    "# Delete task\n",
    "curl -X DELETE http://localhost:8083/connectors/mongo-source-local-test"
   ]
  }
 ],
 "metadata": {
  "kernelspec": {
   "display_name": "Bash",
   "language": "bash",
   "name": "bash"
  },
  "language_info": {
   "codemirror_mode": "shell",
   "file_extension": ".sh",
   "mimetype": "text/x-sh",
   "name": "bash"
  }
 },
 "nbformat": 4,
 "nbformat_minor": 0
}
