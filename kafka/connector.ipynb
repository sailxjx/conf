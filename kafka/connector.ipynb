{
 "cells": [
  {
   "cell_type": "markdown",
   "metadata": {},
   "source": [
    "# Start connectors"
   ]
  },
  {
   "cell_type": "code",
   "execution_count": null,
   "metadata": {
    "collapsed": true
   },
   "outputs": [],
   "source": [
    "# Standalone mongo-source-connector\n",
    "CLASSPATH=./share/java/connect-mongo-1.0-SNAPSHOT/lib/* ./bin/connect-standalone \\\n",
    "     ./etc/schema-registry/connect-avro-standalone.properties ./connect-mongo-source.properties"
   ]
  },
  {
   "cell_type": "code",
   "execution_count": null,
   "metadata": {
    "collapsed": true
   },
   "outputs": [],
   "source": [
    "# connect-mongo-source.properties\n",
    "```\n",
    "name=mongo-source-connector\n",
    "connector.class=org.apache.kafka.connect.mongo.MongoSourceConnector\n",
    "tasks.max=1\n",
    "host=127.0.0.1\n",
    "port=27017\n",
    "batch.size=100\n",
    "schema.name=mongoschema\n",
    "topic.prefix=mongo\n",
    "```"
   ]
  },
  {
   "cell_type": "code",
   "execution_count": null,
   "metadata": {
    "collapsed": true
   },
   "outputs": [],
   "source": [
    "# Distributed mongo-source-connector\n",
    "./bin/connect-distributed etc/kafka/connect-distributed.properties"
   ]
  },
  {
   "cell_type": "markdown",
   "metadata": {},
   "source": [
    "# Rest APIS"
   ]
  },
  {
   "cell_type": "code",
   "execution_count": 10,
   "metadata": {
    "collapsed": false
   },
   "outputs": [
    {
     "name": "stdout",
     "output_type": "stream",
     "text": [
      "[\"mongo-source-local-test\"]"
     ]
    }
   ],
   "source": [
    "# Get connectors\n",
    "curl http://localhost:8083/connectors"
   ]
  },
  {
   "cell_type": "code",
   "execution_count": 13,
   "metadata": {
    "collapsed": false
   },
   "outputs": [
    {
     "name": "stdout",
     "output_type": "stream",
     "text": [
      "{\"error_code\":409,\"message\":\"Connector mongo-source-local-test already exists\"}"
     ]
    }
   ],
   "source": [
    "# Create connector\n",
    "curl -X POST -H \"Content-Type: application/json\" http://localhost:8083/connectors -d '{\n",
    "  \"name\": \"mongo-source-local-test\",\n",
    "  \"config\": {\n",
    "    \"connector.class\": \"org.apache.kafka.connect.mongo.MongoSourceConnector\",\n",
    "    \"tasks.max\": 1,\n",
    "    \"host\": \"127.0.0.1\",\n",
    "    \"port\": 27017,\n",
    "    \"batch.size\": 100,\n",
    "    \"schema.name\": \"mongoschema\",\n",
    "    \"topic.prefix\": \"mongo\",\n",
    "    \"databases\":\"test.users\"\n",
    "  }\n",
    "}'"
   ]
  },
  {
   "cell_type": "code",
   "execution_count": 18,
   "metadata": {
    "collapsed": false
   },
   "outputs": [
    {
     "name": "stdout",
     "output_type": "stream",
     "text": [
      "{\"name\":\"mongo-source-local-test\",\"config\":{\"connector.class\":\"org.apache.kafka.connect.mongo.MongoSourceConnector\",\"tasks.max\":\"1\",\"host\":\"127.0.0.1\",\"port\":\"27017\",\"batch.size\":\"100\",\"schema.name\":\"mongoschema\",\"topic.prefix\":\"mongo\",\"databases\":\"test.users\",\"name\":\"mongo-source-local-test\"},\"tasks\":[]}"
     ]
    }
   ],
   "source": [
    "# Update connector\n",
    "curl -X PUT -H \"Content-Type: application/json\" http://localhost:8083/connectors/mongo-source-local-test/config -d '{\n",
    "    \"connector.class\": \"org.apache.kafka.connect.mongo.MongoSourceConnector\",\n",
    "    \"tasks.max\": 1,\n",
    "    \"host\": \"127.0.0.1\",\n",
    "    \"port\": 27017,\n",
    "    \"batch.size\": 100,\n",
    "    \"schema.name\": \"mongoschema\",\n",
    "    \"topic.prefix\": \"mongo\",\n",
    "    \"databases\":\"test.users\"\n",
    "}'"
   ]
  },
  {
   "cell_type": "code",
   "execution_count": null,
   "metadata": {
    "collapsed": true
   },
   "outputs": [],
   "source": []
  }
 ],
 "metadata": {
  "kernelspec": {
   "display_name": "Bash",
   "language": "bash",
   "name": "bash"
  },
  "language_info": {
   "codemirror_mode": "shell",
   "file_extension": ".sh",
   "mimetype": "text/x-sh",
   "name": "bash"
  }
 },
 "nbformat": 4,
 "nbformat_minor": 0
}
