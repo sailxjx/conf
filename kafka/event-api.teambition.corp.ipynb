{
 "cells": [
  {
   "cell_type": "markdown",
   "metadata": {},
   "source": [
    "# Event API 介绍\n",
    "Event api 提供了对 Kafka 的写入功能，支持 JSON/Avro 方式写入，用户端只需定义请求数据的结构，事件名等必要参数，向 API 提交请求，数据服务将这些数据保存到 HDFS 并提供 OLAP 查询接口\n",
    "\n",
    "## API URL\n",
    "* Dev http://event-api.dev22\n",
    "* Production http://event-api.teambition.corp\n",
    "\n",
    "## 数据格式"
   ]
  },
  {
   "cell_type": "code",
   "execution_count": null,
   "metadata": {
    "collapsed": true
   },
   "outputs": [],
   "source": [
    "# 发送 JSON 格式\n",
    "cat << EOF > event-json.json\n",
    "{\n",
    "  \"records\": [\n",
    "    {\n",
    "      \"value\": {\n",
    "        \"foo\": \"bar\"\n",
    "      }\n",
    "    }\n",
    "  ]\n",
    "}\n",
    "EOF\n",
    "curl -X POST -H \"Content-Type: application/vnd.kafka.json.v1+json\" \\\n",
    "    -d @event-json.json \"http://event-api.dev22\""
   ]
  }
 ],
 "metadata": {
  "anaconda-cloud": {},
  "kernelspec": {
   "display_name": "Bash",
   "language": "bash",
   "name": "bash"
  },
  "language_info": {
   "codemirror_mode": "shell",
   "file_extension": ".sh",
   "mimetype": "text/x-sh",
   "name": "bash"
  }
 },
 "nbformat": 4,
 "nbformat_minor": 1
}
