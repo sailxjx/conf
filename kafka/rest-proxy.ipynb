{
 "cells": [
  {
   "cell_type": "code",
   "execution_count": 6,
   "metadata": {
    "collapsed": false
   },
   "outputs": [
    {
     "name": "stdout",
     "output_type": "stream",
     "text": [
      "[\"_schemas\",\"avrotest\",\"binarytest\",\"jsontest\"]"
     ]
    }
   ],
   "source": [
    "# Topics\n",
    "curl http://kafka:38082/topics"
   ]
  },
  {
   "cell_type": "code",
   "execution_count": 11,
   "metadata": {
    "collapsed": false
   },
   "outputs": [
    {
     "name": "stdout",
     "output_type": "stream",
     "text": [
      "{\"name\":\"avrotest\",\"configs\":{},\"partitions\":[{\"partition\":0,\"leader\":1,\"replicas\":[{\"broker\":1,\"leader\":true,\"in_sync\":true}]}]}"
     ]
    }
   ],
   "source": [
    "# One topic\n",
    "curl http://kafka:38082/topics/avrotest"
   ]
  },
  {
   "cell_type": "code",
   "execution_count": 12,
   "metadata": {
    "collapsed": false
   },
   "outputs": [
    {
     "name": "stdout",
     "output_type": "stream",
     "text": [
      "[{\"partition\":0,\"leader\":1,\"replicas\":[{\"broker\":1,\"leader\":true,\"in_sync\":true}]}]"
     ]
    }
   ],
   "source": [
    "# Topic partitions\n",
    "curl http://kafka:38082/topics/avrotest/partitions"
   ]
  },
  {
   "cell_type": "markdown",
   "metadata": {},
   "source": [
    "# Produce and Consume Avro Messages"
   ]
  },
  {
   "cell_type": "code",
   "execution_count": 10,
   "metadata": {
    "collapsed": false
   },
   "outputs": [
    {
     "name": "stdout",
     "output_type": "stream",
     "text": [
      "{\"offsets\":[{\"partition\":0,\"offset\":1,\"error_code\":null,\"error\":null}],\"key_schema_id\":null,\"value_schema_id\":1}"
     ]
    }
   ],
   "source": [
    "curl -X POST -H \"Content-Type: application/vnd.kafka.avro.v1+json\" \\\n",
    "      --data '{\"value_schema\": \"{\\\"type\\\": \\\"record\\\", \\\"name\\\": \\\"User\\\", \\\"fields\\\": [{\\\"name\\\": \\\"name\\\", \\\"type\\\": \\\"string\\\"}]}\", \"records\": [{\"value\": {\"name\": \"testUser\"}}]}' \\\n",
    "      \"http://kafka:38082/topics/avrotest\""
   ]
  },
  {
   "cell_type": "code",
   "execution_count": 13,
   "metadata": {
    "collapsed": false
   },
   "outputs": [
    {
     "name": "stdout",
     "output_type": "stream",
     "text": [
      "{\"instance_id\":\"my_consumer_instance\",\"base_uri\":\"http://192.168.0.21:8082/consumers/my_avro_consumer/instances/my_consumer_instance\"}"
     ]
    }
   ],
   "source": [
    "# Create a consumer for Avro data, starting at the beginning of the topic's\n",
    "# log. Then consume some data from a topic, which is decoded, translated to\n",
    "# JSON, and included in the response. The schema used for deserialization is\n",
    "# fetched automatically from the schema registry. Finally, clean up.\n",
    "curl -X POST -H \"Content-Type: application/vnd.kafka.v1+json\" \\\n",
    "      --data '{\"name\": \"my_consumer_instance\", \"format\": \"avro\", \"auto.offset.reset\": \"smallest\"}' \\\n",
    "      http://kafka:38082/consumers/my_avro_consumer"
   ]
  },
  {
   "cell_type": "code",
   "execution_count": 15,
   "metadata": {
    "collapsed": false
   },
   "outputs": [
    {
     "name": "stdout",
     "output_type": "stream",
     "text": [
      "[{\"key\":null,\"value\":{\"name\":\"testUser\"},\"partition\":0,\"offset\":0},{\"key\":null,\"value\":{\"name\":\"testUser\"},\"partition\":0,\"offset\":1}]"
     ]
    }
   ],
   "source": [
    "curl -X GET -H \"Accept: application/vnd.kafka.avro.v1+json\" \\\n",
    "      http://kafka:38082/consumers/my_avro_consumer/instances/my_consumer_instance/topics/avrotest"
   ]
  },
  {
   "cell_type": "code",
   "execution_count": 16,
   "metadata": {
    "collapsed": false
   },
   "outputs": [
    {
     "name": "stdout",
     "output_type": "stream",
     "text": []
    }
   ],
   "source": [
    "curl -X DELETE \\\n",
    "      http://kafka:38082/consumers/my_avro_consumer/instances/my_consumer_instance"
   ]
  },
  {
   "cell_type": "markdown",
   "metadata": {},
   "source": [
    "# Produce and Consume JSON Messages"
   ]
  },
  {
   "cell_type": "code",
   "execution_count": 5,
   "metadata": {
    "collapsed": false
   },
   "outputs": [
    {
     "name": "stdout",
     "output_type": "stream",
     "text": [
      "{\"offsets\":[{\"partition\":0,\"offset\":0,\"error_code\":null,\"error\":null}],\"key_schema_id\":null,\"value_schema_id\":null}"
     ]
    }
   ],
   "source": [
    "# Produce a message using JSON with the value '{ \"foo\": \"bar\" }' to the topic jsontest\n",
    "curl -X POST -H \"Content-Type: application/vnd.kafka.json.v1+json\" \\\n",
    "      --data '{\"records\":[{\"value\":{\"foo\":\"bar\"}}]}' \"http://kafka:38082/topics/jsontest\""
   ]
  },
  {
   "cell_type": "code",
   "execution_count": 20,
   "metadata": {
    "collapsed": false
   },
   "outputs": [
    {
     "name": "stdout",
     "output_type": "stream",
     "text": [
      "{\"instance_id\":\"my_consumer_instance\",\"base_uri\":\"http://192.168.0.21:8082/consumers/my_json_consumer/instances/my_consumer_instance\"}"
     ]
    }
   ],
   "source": [
    "# Create a consumer for JSON data, starting at the beginning of the topic's\n",
    "# log. Then consume some data from a topic using the base URL in the first response.\n",
    "# Finally, close the consumer with a DELETE to make it leave the group and clean up\n",
    "# its resources.\n",
    "curl -X POST -H \"Content-Type: application/vnd.kafka.v1+json\" \\\n",
    "      --data '{\"name\": \"my_consumer_instance\", \"format\": \"json\", \"auto.offset.reset\": \"smallest\"}' \\\n",
    "      http://kafka:38082/consumers/my_json_consumer"
   ]
  },
  {
   "cell_type": "code",
   "execution_count": 21,
   "metadata": {
    "collapsed": false
   },
   "outputs": [
    {
     "name": "stdout",
     "output_type": "stream",
     "text": [
      "{\"error_code\":50002,\"message\":\"Kafka error: com.fasterxml.jackson.core.JsonParseException: Unrecognized token 'Kafka': was expecting ('true', 'false' or 'null')\\n at [Source: [B@3d012ed7; line: 1, column: 11]\"}"
     ]
    }
   ],
   "source": [
    "curl -X GET -H \"Accept: application/vnd.kafka.json.v1+json\" \\\n",
    "      http://kafka:38082/consumers/my_json_consumer/instances/my_consumer_instance/topics/jsontest"
   ]
  },
  {
   "cell_type": "code",
   "execution_count": 22,
   "metadata": {
    "collapsed": false
   },
   "outputs": [
    {
     "name": "stdout",
     "output_type": "stream",
     "text": []
    }
   ],
   "source": [
    "curl -X DELETE \\\n",
    "      http://kafka:38082/consumers/my_json_consumer/instances/my_consumer_instance"
   ]
  },
  {
   "cell_type": "code",
   "execution_count": null,
   "metadata": {
    "collapsed": true
   },
   "outputs": [],
   "source": []
  }
 ],
 "metadata": {
  "anaconda-cloud": {},
  "kernelspec": {
   "display_name": "Bash",
   "language": "bash",
   "name": "bash"
  },
  "language_info": {
   "codemirror_mode": "shell",
   "file_extension": ".sh",
   "mimetype": "text/x-sh",
   "name": "bash"
  }
 },
 "nbformat": 4,
 "nbformat_minor": 1
}
