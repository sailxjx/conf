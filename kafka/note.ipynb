{
 "cells": [
  {
   "cell_type": "code",
   "execution_count": 2,
   "metadata": {
    "focus": false,
    "id": "e90c85dc-2de7-4ca4-a5b9-7a36234fb6b2"
   },
   "outputs": [
    {
     "name": "stdout",
     "output_type": "stream",
     "text": []
    }
   ],
   "source": [
    "cd /Users/tristan/coding/opensource/confluent-3.1.0"
   ]
  },
  {
   "cell_type": "markdown",
   "metadata": {
    "focus": false,
    "id": "96a164ae-bb75-4349-a658-5e8fd7d5305b"
   },
   "source": [
    "### 创建 topic"
   ]
  },
  {
   "cell_type": "code",
   "execution_count": 5,
   "metadata": {
    "focus": false,
    "id": "4008449e-b959-4f00-9bbe-63b51171711f"
   },
   "outputs": [
    {
     "name": "stdout",
     "output_type": "stream",
     "text": [
      "WARNING: Due to limitations in metric names, topics with a period ('.') or underscore ('_') could collide. To avoid issues it is best to use either, but not both.\r\n",
      "Created topic \"test_default_replica\".\r\n"
     ]
    }
   ],
   "source": [
    "./bin/kafka-topics --create --zookeeper kafka:32181 \\\n",
    "    --topic test_default_replica --partitions 1 --replication-factor 3"
   ]
  },
  {
   "cell_type": "code",
   "execution_count": 10,
   "metadata": {},
   "outputs": [
    {
     "name": "stdout",
     "output_type": "stream",
     "text": [
      "Topic:mongo_21_t_d\tPartitionCount:1\tReplicationFactor:3\tConfigs:\r\n",
      "\tTopic: mongo_21_t_d\tPartition: 0\tLeader: 1\tReplicas: 1,3,2\tIsr: 1,3,2\r\n"
     ]
    }
   ],
   "source": [
    "./bin/kafka-topics --describe --zookeeper kafka:32181 \\\n",
    "    --topic mongo_21_t_d"
   ]
  },
  {
   "cell_type": "code",
   "execution_count": 13,
   "metadata": {
    "focus": true,
    "id": "67059593-f1c1-489f-98e4-1167555a31a7"
   },
   "outputs": [
    {
     "name": "stdout",
     "output_type": "stream",
     "text": [
      "__consumer_offsets\r\n",
      "_schemas\r\n",
      "connect-mongo-configs-2\r\n",
      "connect-mongo-configs-3\r\n",
      "connect-mongo-offsets\r\n",
      "connect-mongo-offsets-2\r\n",
      "connect-mongo-offsets-3\r\n",
      "connect-mongo-status-2\r\n",
      "connect-mongo-status-3\r\n",
      "file-connect-test\r\n",
      "mongo_21_avro_activities\r\n",
      "mongo_21_pay_orders\r\n",
      "mongo_21_test_users\r\n",
      "mongo_local_test_users\r\n",
      "mongodb_local_test_users\r\n",
      "mongodbprefix_mydb_test1\r\n",
      "teambition_activities\r\n",
      "test\r\n"
     ]
    }
   ],
   "source": [
    "./bin/kafka-topics --list --zookeeper kafka:32181"
   ]
  },
  {
   "cell_type": "markdown",
   "metadata": {
    "focus": false,
    "id": "2994a369-8a5d-44c7-ace2-3d5184900703"
   },
   "source": [
    "### Send some messages"
   ]
  },
  {
   "cell_type": "code",
   "execution_count": 4,
   "metadata": {
    "focus": false,
    "id": "d2309573-5d73-4bdd-9ada-2f694d3cb1a9"
   },
   "outputs": [
    {
     "name": "stdout",
     "output_type": "stream",
     "text": []
    }
   ],
   "source": [
    "./bin/kafka-console-producer --broker-list 192.168.0.124:39092 --topic test"
   ]
  },
  {
   "cell_type": "markdown",
   "metadata": {
    "focus": false,
    "id": "a417fcf0-062b-46d2-b540-e23fe6af20f9"
   },
   "source": [
    "### Consume a topic"
   ]
  },
  {
   "cell_type": "code",
   "execution_count": null,
   "metadata": {
    "collapsed": true,
    "focus": false,
    "id": "585e8613-f431-4bce-b04c-11ea8c3f485d"
   },
   "outputs": [],
   "source": [
    "# Listen to a topic `from beginning`\n",
    "./bin/kafka-console-consumer  --zookeeper 192.168.0.124:32181 --topic wikipedia-raw --from-beginning\n",
    "\n",
    "# >= 3.1.0\n",
    "./bin/kafka-console-consumer --bootstrap-server 192.168.0.124:39092 --topic test --from-beginning\n",
    "\n",
    "# 包含 key\n",
    "./bin/kafka-console-consumer --bootstrap-server 192.168.0.124:39092 --property print.key=true --topic test --from-beginning"
   ]
  },
  {
   "cell_type": "markdown",
   "metadata": {
    "focus": false,
    "id": "a0fdaa62-d5ae-4733-8677-ca1db188e5b2"
   },
   "source": [
    "### 删除 topic"
   ]
  },
  {
   "cell_type": "code",
   "execution_count": null,
   "metadata": {
    "focus": false,
    "id": "b19fa1de-87f7-4176-ab15-5b13abef38f4"
   },
   "outputs": [],
   "source": [
    "kafka-topics --delete --zookeeper kafka:32181 --topic mongo_assemble_activities_fact"
   ]
  },
  {
   "cell_type": "markdown",
   "metadata": {
    "focus": false,
    "id": "94e3f6f1-de2a-480b-9adf-0bcf0514ec29"
   },
   "source": [
    "### 查询 topic 配置"
   ]
  },
  {
   "cell_type": "code",
   "execution_count": 9,
   "metadata": {
    "focus": false,
    "id": "1c240421-fd41-4555-81d2-b24e080f2ec8"
   },
   "outputs": [
    {
     "name": "stdout",
     "output_type": "stream",
     "text": [
      "Configs for topics:test are \r\n",
      "Configs for topics:mongo_local_test_users are \r\n",
      "Configs for topics:_schemas are cleanup.policy=compact\r\n",
      "Configs for topics:mongo_21_teambition_tasks are \r\n",
      "Configs for topics:__consumer_offsets are segment.bytes=104857600,cleanup.policy=compact,compression.type=producer\r\n",
      "Configs for topics:mongo_local_test_emails are \r\n",
      "Configs for topics:mongo_21_pay_orders are cleanup.policy=delete\r\n"
     ]
    }
   ],
   "source": [
    "./bin/kafka-configs --describe --zookeeper 192.168.0.124:32181 --entity-type topics"
   ]
  },
  {
   "cell_type": "code",
   "execution_count": 8,
   "metadata": {},
   "outputs": [
    {
     "name": "stdout",
     "output_type": "stream",
     "text": [
      "Command must include exactly one action: --describe, --alter\r\n",
      "Option              Description                            \r\n",
      "------              -----------                            \r\n",
      "--add-config        Key Value pairs configs to add 'k1=v1, \r\n",
      "                      k2=v2'. The following is a list of   \r\n",
      "                      valid configurations: For            \r\n",
      "                      entity_type 'topics':                \r\n",
      "                    \tcleanup.policy                        \r\n",
      "                    \tcompression.type                      \r\n",
      "                    \tdelete.retention.ms                   \r\n",
      "                    \tfile.delete.delay.ms                  \r\n",
      "                    \tflush.messages                        \r\n",
      "                    \tflush.ms                              \r\n",
      "                    \tindex.interval.bytes                  \r\n",
      "                    \tmax.message.bytes                     \r\n",
      "                    \tmessage.format.version                \r\n",
      "                    \tmessage.timestamp.difference.max.ms   \r\n",
      "                    \tmessage.timestamp.type                \r\n",
      "                    \tmin.cleanable.dirty.ratio             \r\n",
      "                    \tmin.insync.replicas                   \r\n",
      "                    \tpreallocate                           \r\n",
      "                    \tretention.bytes                       \r\n",
      "                    \tretention.ms                          \r\n",
      "                    \tsegment.bytes                         \r\n",
      "                    \tsegment.index.bytes                   \r\n",
      "                    \tsegment.jitter.ms                     \r\n",
      "                    \tsegment.ms                            \r\n",
      "                    \tunclean.leader.election.enable        \r\n",
      "                    For entity_type 'clients':             \r\n",
      "                    \tproducer_byte_rate                    \r\n",
      "                    \tconsumer_byte_rate                    \r\n",
      "--alter             Alter the configuration for the entity.\r\n",
      "--delete-config     config keys to remove 'k1,k2'          \r\n",
      "--describe          List configs for the given entity.     \r\n",
      "--entity-name       Name of entity (topic name/client id)  \r\n",
      "--entity-type       Type of entity (topics/clients)        \r\n",
      "--help              Print usage information.               \r\n",
      "--zookeeper <urls>  REQUIRED: The connection string for    \r\n",
      "                      the zookeeper connection in the form \r\n",
      "                      host:port. Multiple URLS can be      \r\n",
      "                      given to allow fail-over.            \r\n"
     ]
    }
   ],
   "source": [
    "./bin/kafka-configs --help"
   ]
  },
  {
   "cell_type": "markdown",
   "metadata": {
    "focus": false,
    "id": "836ac11d-43f9-4939-92d6-b471367b1c79"
   },
   "source": [
    "### 修改 topic 配置"
   ]
  },
  {
   "cell_type": "code",
   "execution_count": 7,
   "metadata": {
    "focus": false,
    "id": "5265c190-15a0-4757-a166-116d18a3b6c9"
   },
   "outputs": [
    {
     "name": "stdout",
     "output_type": "stream",
     "text": [
      "Updated config for topic: \"mongo_21_pay_orders\".\r\n"
     ]
    }
   ],
   "source": [
    "./bin/kafka-configs --zookeeper 192.168.0.124:32181 --entity-type topics --entity-name mongo_21_pay_orders \\\n",
    "            --alter --add-config cleanup.policy=delete"
   ]
  },
  {
   "cell_type": "markdown",
   "metadata": {},
   "source": [
    "### 查看单个 topic 配置"
   ]
  },
  {
   "cell_type": "code",
   "execution_count": 6,
   "metadata": {},
   "outputs": [
    {
     "name": "stdout",
     "output_type": "stream",
     "text": [
      "Configs for topics:mongo_21_pay_orders are cleanup.policy=compact\r\n"
     ]
    }
   ],
   "source": [
    "./bin/kafka-configs --describe --zookeeper 192.168.0.124:32181 --entity-type topics --entity-name mongo_21_pay_orders"
   ]
  },
  {
   "cell_type": "markdown",
   "metadata": {
    "focus": false,
    "id": "b8402fda-379d-4394-8e17-8cab81ef317e"
   },
   "source": [
    "# kafka rest"
   ]
  },
  {
   "cell_type": "code",
   "execution_count": 1,
   "metadata": {
    "focus": false,
    "id": "b6ff1df7-e972-4b2a-8d58-5426cab6b246"
   },
   "outputs": [
    {
     "name": "stdout",
     "output_type": "stream",
     "text": [
      "[\"__consumer_offsets\",\"_schemas\",\"mongo_local_test_users\",\"test\"]"
     ]
    }
   ],
   "source": [
    "# Get topics\n",
    "curl -XGET http://192.168.0.124:38082/topics"
   ]
  }
 ],
 "metadata": {
  "anaconda-cloud": {},
  "kernelspec": {
   "display_name": "Bash",
   "language": "bash",
   "name": "bash"
  },
  "language_info": {
   "codemirror_mode": "shell",
   "file_extension": ".sh",
   "mimetype": "text/x-sh",
   "name": "bash"
  }
 },
 "nbformat": 4,
 "nbformat_minor": 1
}
