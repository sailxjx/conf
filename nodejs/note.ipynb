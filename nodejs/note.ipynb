{
 "cells": [
  {
   "cell_type": "code",
   "execution_count": 1,
   "metadata": {
    "collapsed": false
   },
   "outputs": [
    {
     "ename": "ReferenceError",
     "evalue": "testFinally is not defined",
     "output_type": "error",
     "traceback": [
      "evalmachine.<anonymous>:15",
      "console.log(testFinally())",
      "            ^",
      "ReferenceError: testFinally is not defined",
      "    at evalmachine.<anonymous>:15:13",
      "    at Object.exports.runInThisContext (vm.js:54:17)",
      "    at run ([eval]:606:19)",
      "    at onRunRequest ([eval]:377:22)",
      "    at onMessage ([eval]:345:17)",
      "    at emitTwo (events.js:106:13)",
      "    at process.emit (events.js:191:7)",
      "    at process.nextTick (internal/child_process.js:719:12)",
      "    at _combinedTickCallback (internal/process/next_tick.js:67:7)",
      "    at process._tickCallback (internal/process/next_tick.js:98:9)"
     ]
    }
   ],
   "source": [
    "function testFinally () {\n",
    "    try {\n",
    "        console.log(1)\n",
    "        return 1\n",
    "    } catch (err) {\n",
    "        console.log(2)\n",
    "        return 2\n",
    "    } finally {\n",
    "        console.log(3)\n",
    "        return 3\n",
    "    }\n",
    "    return \"Do not reach\"\n",
    "}\n",
    "\n",
    "console.log(testFianlly())"
   ]
  },
  {
   "cell_type": "code",
   "execution_count": null,
   "metadata": {
    "collapsed": true
   },
   "outputs": [],
   "source": []
  }
 ],
 "metadata": {
  "kernelspec": {
   "display_name": "Javascript (Node.js)",
   "language": "javascript",
   "name": "javascript"
  },
  "language_info": {
   "file_extension": ".js",
   "mimetype": "application/javascript",
   "name": "javascript",
   "version": "6.2.2"
  }
 },
 "nbformat": 4,
 "nbformat_minor": 0
}
