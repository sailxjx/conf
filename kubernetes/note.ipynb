{
 "cells": [
  {
   "cell_type": "code",
   "execution_count": 1,
   "metadata": {
    "collapsed": false
   },
   "outputs": [
    {
     "name": "stdout",
     "output_type": "stream",
     "text": [
      "Client Version: version.Info{Major:\"1\", Minor:\"5\", GitVersion:\"v1.5.1\", GitCommit:\"82450d03cb057bab0950214ef122b67c83fb11df\", GitTreeState:\"clean\", BuildDate:\"2016-12-22T09:28:07Z\", GoVersion:\"go1.7.4\", Compiler:\"gc\", Platform:\"darwin/amd64\"}\r\n",
      "Server Version: version.Info{Major:\"1\", Minor:\"5\", GitVersion:\"v1.5.2\", GitCommit:\"08e099554f3c31f6e6f07b448ab3ed78d0520507\", GitTreeState:\"clean\", BuildDate:\"2017-01-12T04:52:34Z\", GoVersion:\"go1.7.4\", Compiler:\"gc\", Platform:\"linux/amd64\"}\r\n",
      "NAME                                READY     STATUS             RESTARTS   AGE\r\n",
      "autotest-accounts                   2/4       ImagePullBackOff   0          13d\r\n",
      "elasticsearch-3ucpd                 1/1       Running            1          212d\r\n",
      "freegeoip-t0ab6                     1/1       Running            1          212d\r\n",
      "grafana-g14fe                       1/1       Running            1          143d\r\n",
      "hello-world-v2z8q                   1/1       Running            1          144d\r\n",
      "jenkins-geix4                       1/1       Running            1          169d\r\n",
      "kafka-rest                          0/1       CrashLoopBackOff   1954       6d\r\n",
      "nginx-deployment-4087004473-192c9   1/1       Running            0          7d\r\n",
      "nginx-deployment-4087004473-34jkj   1/1       Running            0          7d\r\n",
      "nginx-deployment-4087004473-3jbb2   1/1       Running            0          7d\r\n",
      "nginx-deployment-4087004473-50q6v   1/1       Running            0          7d\r\n",
      "prometheus-523399722-zc4sg          1/1       Running            0          16d\r\n",
      "snapper-f936r                       3/3       Running            3          210d\r\n"
     ]
    }
   ],
   "source": [
    "# Get version and pods\n",
    "kubectl version\n",
    "kubectl get pods"
   ]
  },
  {
   "cell_type": "markdown",
   "metadata": {},
   "source": [
    "# Create pods"
   ]
  },
  {
   "cell_type": "markdown",
   "metadata": {},
   "source": [
    "* 外网 ip: 121.196.214.67\n",
    "* 内网 ip: 10.0.0.1"
   ]
  },
  {
   "cell_type": "code",
   "execution_count": 7,
   "metadata": {
    "collapsed": false
   },
   "outputs": [
    {
     "name": "stdout",
     "output_type": "stream",
     "text": [
      "pod \"kafka-rest\" deleted\r\n",
      "pod \"kafka-rest\" created\r\n"
     ]
    }
   ],
   "source": [
    "echo 'apiVersion: v1\n",
    "kind: Pod\n",
    "metadata:\n",
    "  name: kafka-rest\n",
    "  labels:\n",
    "    app: kafka-rest\n",
    "    version: v1\n",
    "spec:\n",
    "  containers:\n",
    "  - name: kafka-rest\n",
    "    image: confluentinc/cp-kafka-rest:3.1.1\n",
    "    ports:\n",
    "    - containerPort: 8082\n",
    "      protocol: TCP\n",
    "    env:\n",
    "    - name: KAFKA_REST_ZOOKEEPER_CONNECT\n",
    "      value: 10.0.0.1:22181,10.0.0.1:32181,10.0.0.1:42181\n",
    "    - name: KAFKA_REST_HOST_NAME\n",
    "      value: 121.196.214.67\n",
    "    - name: KAFKA_REST_LISTENERS\n",
    "      value: http://0.0.0.0:8082\n",
    "    - name: KAFKA_REST_SCHEMA_REGISTRY_URL\n",
    "      value: http://10.0.0.1:38081' > kafka-rest.yml\n",
    "\n",
    "kubectl delete pods kafka-rest\n",
    "kubectl create -f kafka-rest.yml"
   ]
  },
  {
   "cell_type": "code",
   "execution_count": 8,
   "metadata": {
    "collapsed": false
   },
   "outputs": [
    {
     "name": "stdout",
     "output_type": "stream",
     "text": [
      "NAME                                READY     STATUS             RESTARTS   AGE\r\n",
      "autotest-accounts                   0/4       ImagePullBackOff   0          17d\r\n",
      "elasticsearch-3ucpd                 1/1       Running            2          215d\r\n",
      "freegeoip-t0ab6                     1/1       Running            2          215d\r\n",
      "grafana-g14fe                       1/1       Running            2          146d\r\n",
      "hello-world-v2z8q                   1/1       Running            2          147d\r\n",
      "jenkins-geix4                       1/1       Running            2          173d\r\n",
      "kafka-rest                          1/1       Running            6          22m\r\n",
      "nginx-deployment-4087004473-192c9   1/1       Running            1          10d\r\n",
      "nginx-deployment-4087004473-34jkj   1/1       Running            1          10d\r\n",
      "nginx-deployment-4087004473-3jbb2   1/1       Running            1          10d\r\n",
      "nginx-deployment-4087004473-50q6v   1/1       Running            1          10d\r\n",
      "prometheus-523399722-zc4sg          1/1       Running            1          20d\r\n",
      "snapper-f936r                       1/3       ImagePullBackOff   4          213d\r\n"
     ]
    }
   ],
   "source": [
    "kubectl get pods"
   ]
  },
  {
   "cell_type": "markdown",
   "metadata": {},
   "source": [
    "# Create services"
   ]
  },
  {
   "cell_type": "code",
   "execution_count": 10,
   "metadata": {
    "collapsed": false
   },
   "outputs": [
    {
     "name": "stdout",
     "output_type": "stream",
     "text": [
      "Error from server (NotFound): services \"kafka-rest\" not found\r\n",
      "service \"kafka-rest\" created\r\n"
     ]
    }
   ],
   "source": [
    "echo 'kind: Service\n",
    "apiVersion: v1\n",
    "metadata:\n",
    "    labels:\n",
    "        app: kafka-rest\n",
    "    name: kafka-rest\n",
    "    namespace: default\n",
    "spec:\n",
    "    clusterIP: 11.1.2.199\n",
    "    ports:\n",
    "    - nodePort: 30998\n",
    "      port: 8082\n",
    "      protocol: TCP\n",
    "      targetPort: 8082\n",
    "    selector:\n",
    "      app: kafka-rest\n",
    "    type: NodePort\n",
    "status:\n",
    "    loadBalancer: {}\n",
    "' > kafka-rest-service.yml\n",
    "\n",
    "kubectl apply -f kafka-rest-service.yml"
   ]
  },
  {
   "cell_type": "code",
   "execution_count": 12,
   "metadata": {
    "collapsed": false
   },
   "outputs": [
    {
     "name": "stdout",
     "output_type": "stream",
     "text": [
      "NAME         CLUSTER-IP   EXTERNAL-IP   PORT(S)          AGE\r\n",
      "kafka-rest   11.1.2.199   <nodes>       8082:30998/TCP   15s\r\n"
     ]
    }
   ],
   "source": [
    "kubectl get services/kafka-rest"
   ]
  },
  {
   "cell_type": "code",
   "execution_count": 11,
   "metadata": {
    "collapsed": false
   },
   "outputs": [
    {
     "name": "stdout",
     "output_type": "stream",
     "text": [
      "Name:\t\t\tkafka-rest\r\n",
      "Namespace:\t\tdefault\r\n",
      "Labels:\t\t\tapp=kafka-rest\r\n",
      "Selector:\t\tapp=kafka-rest\r\n",
      "Type:\t\t\tNodePort\r\n",
      "IP:\t\t\t11.1.2.199\r\n",
      "Port:\t\t\t<unset>\t8082/TCP\r\n",
      "NodePort:\t\t<unset>\t30998/TCP\r\n",
      "Endpoints:\t\t10.10.1.13:8082\r\n",
      "Session Affinity:\tNone\r\n",
      "No events.\r\n"
     ]
    }
   ],
   "source": [
    "kubectl describe services/kafka-rest"
   ]
  },
  {
   "cell_type": "markdown",
   "metadata": {},
   "source": [
    "# Create deployments"
   ]
  },
  {
   "cell_type": "code",
   "execution_count": 6,
   "metadata": {
    "collapsed": false
   },
   "outputs": [
    {
     "name": "stdout",
     "output_type": "stream",
     "text": [
      "NAME                                     READY     STATUS             RESTARTS   AGE       LABELS\r\n",
      "autotest-accounts                        0/4       ImagePullBackOff   0          17d       app=autotest-accounts,version=v1\r\n",
      "elasticsearch-3ucpd                      1/1       Running            2          215d      app=elasticsearch\r\n",
      "freegeoip-t0ab6                          1/1       Running            2          215d      app=freegeoip\r\n",
      "grafana-g14fe                            1/1       Running            2          146d      app=grafana\r\n",
      "hello-world-v2z8q                        1/1       Running            2          148d      app=hello-world\r\n",
      "jenkins-geix4                            1/1       Running            2          173d      app=jenkins\r\n",
      "kafka-rest                               1/1       Running            6          20h       app=kafka-rest,version=v1\r\n",
      "kafka-rest-deployment-3924449271-7c95b   1/1       Running            0          12s       app=kafka-rest,pod-template-hash=3924449271\r\n",
      "kafka-rest-deployment-3924449271-whd8l   1/1       Running            0          12s       app=kafka-rest,pod-template-hash=3924449271\r\n",
      "kafka-rest-deployment-3924449271-wwp0d   1/1       Running            0          12s       app=kafka-rest,pod-template-hash=3924449271\r\n",
      "nginx-deployment-4087004473-192c9        1/1       Running            1          11d       app=nginx,pod-template-hash=4087004473\r\n",
      "nginx-deployment-4087004473-34jkj        1/1       Running            1          11d       app=nginx,pod-template-hash=4087004473\r\n",
      "nginx-deployment-4087004473-3jbb2        1/1       Running            1          11d       app=nginx,pod-template-hash=4087004473\r\n",
      "nginx-deployment-4087004473-50q6v        1/1       Running            1          11d       app=nginx,pod-template-hash=4087004473\r\n",
      "prometheus-523399722-zc4sg               1/1       Running            1          20d       app=prometheus,pod-template-hash=523399722\r\n",
      "snapper-f936r                            1/3       ImagePullBackOff   4          214d      app=snapper\r\n"
     ]
    }
   ],
   "source": [
    "kubectl get pods --show-labels"
   ]
  },
  {
   "cell_type": "code",
   "execution_count": 13,
   "metadata": {
    "collapsed": false
   },
   "outputs": [
    {
     "name": "stdout",
     "output_type": "stream",
     "text": [
      "deployment \"kafka-rest-deployment\" configured\r\n"
     ]
    }
   ],
   "source": [
    "echo 'apiVersion: extensions/v1beta1\n",
    "kind: Deployment\n",
    "metadata:\n",
    "  name: kafka-rest-deployment\n",
    "spec:\n",
    "  replicas: 3\n",
    "  template:\n",
    "    metadata:\n",
    "      labels:\n",
    "        app: kafka-rest\n",
    "    spec:\n",
    "      containers:\n",
    "      - name: kafka-rest\n",
    "        image: confluentinc/cp-kafka-rest:3.2\n",
    "        ports:\n",
    "        - containerPort: 8082\n",
    "          protocol: TCP\n",
    "        env:\n",
    "        - name: KAFKA_REST_ZOOKEEPER_CONNECT\n",
    "          value: 10.0.0.1:22181,10.0.0.1:32181,10.0.0.1:42181\n",
    "        - name: KAFKA_REST_HOST_NAME\n",
    "          value: 121.196.214.67\n",
    "        - name: KAFKA_REST_LISTENERS\n",
    "          value: http://0.0.0.0:8082\n",
    "        - name: KAFKA_REST_SCHEMA_REGISTRY_URL\n",
    "          value: http://10.0.0.1:38081\n",
    "' > kafka-rest-deployment.yml\n",
    "kubectl apply -f kafka-rest-deployment.yml  --record"
   ]
  }
 ],
 "metadata": {
  "anaconda-cloud": {},
  "kernelspec": {
   "display_name": "Bash",
   "language": "bash",
   "name": "bash"
  },
  "language_info": {
   "codemirror_mode": "shell",
   "file_extension": ".sh",
   "mimetype": "text/x-sh",
   "name": "bash"
  }
 },
 "nbformat": 4,
 "nbformat_minor": 1
}
