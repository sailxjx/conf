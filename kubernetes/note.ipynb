{
 "cells": [
  {
   "cell_type": "code",
   "execution_count": 2,
   "metadata": {
    "collapsed": false
   },
   "outputs": [
    {
     "name": "stdout",
     "output_type": "stream",
     "text": [
      "Client Version: version.Info{Major:\"1\", Minor:\"5\", GitVersion:\"v1.5.1\", GitCommit:\"82450d03cb057bab0950214ef122b67c83fb11df\", GitTreeState:\"clean\", BuildDate:\"2016-12-22T09:28:07Z\", GoVersion:\"go1.7.4\", Compiler:\"gc\", Platform:\"darwin/amd64\"}\r\n",
      "Server Version: version.Info{Major:\"1\", Minor:\"5\", GitVersion:\"v1.5.2\", GitCommit:\"08e099554f3c31f6e6f07b448ab3ed78d0520507\", GitTreeState:\"clean\", BuildDate:\"2017-01-12T04:52:34Z\", GoVersion:\"go1.7.4\", Compiler:\"gc\", Platform:\"linux/amd64\"}\r\n",
      "NAME                                READY     STATUS             RESTARTS   AGE\r\n",
      "autotest-accounts                   2/4       ImagePullBackOff   0          6d\r\n",
      "elasticsearch-3ucpd                 1/1       Running            1          205d\r\n",
      "freegeoip-t0ab6                     1/1       Running            1          205d\r\n",
      "grafana-g14fe                       1/1       Running            1          136d\r\n",
      "hello-world-v2z8q                   1/1       Running            1          137d\r\n",
      "jenkins-geix4                       1/1       Running            1          163d\r\n",
      "nginx-deployment-4087004473-192c9   1/1       Running            0          5h\r\n",
      "nginx-deployment-4087004473-34jkj   1/1       Running            0          5h\r\n",
      "nginx-deployment-4087004473-3jbb2   1/1       Running            0          5h\r\n",
      "nginx-deployment-4087004473-50q6v   1/1       Running            0          5h\r\n",
      "prometheus-523399722-zc4sg          1/1       Running            0          10d\r\n",
      "snapper-f936r                       3/3       Running            3          203d\r\n"
     ]
    }
   ],
   "source": [
    "# Get version and pods\n",
    "kubectl version\n",
    "kubectl get pods"
   ]
  },
  {
   "cell_type": "markdown",
   "metadata": {},
   "source": [
    "# Create k8s pods"
   ]
  },
  {
   "cell_type": "code",
   "execution_count": 12,
   "metadata": {
    "collapsed": false
   },
   "outputs": [
    {
     "name": "stdout",
     "output_type": "stream",
     "text": []
    }
   ],
   "source": [
    "echo 'apiVersion: v1\n",
    "kind: Pod\n",
    "metadata:\n",
    "  name: kafka\n",
    "  labels:\n",
    "    app: kafka\n",
    "    version: v1\n",
    "spec:\n",
    "  containers:\n",
    "  - name: kafka\n",
    "    image: confluentinc/cp-kafka:3.1.1\n",
    "    ports:\n",
    "    - containerPort: 9092\n",
    "      protocol: TCP\n",
    "    env:\n",
    "    - name: KAFKA_REST_ZOOKEEPER_CONNECT\n",
    "      value: kafka01:2181,kafka02:2181,kafka03:2181\n",
    "    - name: KAFKA_REST_HOST_NAME\n",
    "      value: kafka04.teambition.corp\n",
    "    - name: KAFKA_REST_LISTENERS\n",
    "      value: http://0.0.0.0:8082\n",
    "    - name: KAFKA_REST_SCHEMA_REGISTRY_URL\n",
    "      value: http://kafka04:8081' > kafka-rest.yml"
   ]
  },
  {
   "cell_type": "code",
   "execution_count": 14,
   "metadata": {
    "collapsed": false
   },
   "outputs": [
    {
     "name": "stdout",
     "output_type": "stream",
     "text": [
      "pod \"kafka-rest\" created\r\n"
     ]
    }
   ],
   "source": [
    "kubectl create -f kafka-rest.yml"
   ]
  },
  {
   "cell_type": "code",
   "execution_count": 22,
   "metadata": {
    "collapsed": false
   },
   "outputs": [
    {
     "name": "stdout",
     "output_type": "stream",
     "text": [
      "NAME                                READY     STATUS             RESTARTS   AGE\r\n",
      "autotest-accounts                   2/4       ImagePullBackOff   0          7d\r\n",
      "elasticsearch-3ucpd                 1/1       Running            1          205d\r\n",
      "freegeoip-t0ab6                     1/1       Running            1          205d\r\n",
      "grafana-g14fe                       1/1       Running            1          136d\r\n",
      "hello-world-v2z8q                   1/1       Running            1          137d\r\n",
      "jenkins-geix4                       1/1       Running            1          163d\r\n",
      "kafka-rest                          0/1       CrashLoopBackOff   6          8m\r\n",
      "nginx-deployment-4087004473-192c9   1/1       Running            0          5h\r\n",
      "nginx-deployment-4087004473-34jkj   1/1       Running            0          5h\r\n",
      "nginx-deployment-4087004473-3jbb2   1/1       Running            0          5h\r\n",
      "nginx-deployment-4087004473-50q6v   1/1       Running            0          5h\r\n",
      "prometheus-523399722-zc4sg          1/1       Running            0          10d\r\n",
      "snapper-f936r                       3/3       Running            3          203d\r\n"
     ]
    }
   ],
   "source": [
    "kubectl get pods"
   ]
  },
  {
   "cell_type": "code",
   "execution_count": 23,
   "metadata": {
    "collapsed": false
   },
   "outputs": [
    {
     "name": "stdout",
     "output_type": "stream",
     "text": [
      "Name:\t\tkafka-rest\r\n",
      "Namespace:\tdefault\r\n",
      "Node:\t\tk8s-master-dev/10.0.0.1\r\n",
      "Start Time:\tFri, 24 Feb 2017 17:11:07 +0800\r\n",
      "Labels:\t\tapp=kafka-rest\r\n",
      "\t\tversion=v1\r\n",
      "Status:\t\tRunning\r\n",
      "IP:\t\t10.10.1.17\r\n",
      "Controllers:\t<none>\r\n",
      "Containers:\r\n",
      "  kafka-rest:\r\n",
      "    Container ID:\tdocker://784a864de6c7ff5e7794f8c341f5bd502494d3f3e96f897b0094dd3ccefd0826\r\n",
      "    Image:\t\tconfluentinc/cp-kafka-rest:3.1.1\r\n",
      "    Image ID:\t\tdocker-pullable://docker.io/confluentinc/cp-kafka-rest@sha256:387ecb87b13d9c4c78cabea31e2f0945dce4333e6dd839940061572013f49c30\r\n",
      "    Port:\t\t8082/TCP\r\n",
      "    State:\t\tWaiting\r\n",
      "      Reason:\t\tCrashLoopBackOff\r\n",
      "    Last State:\t\tTerminated\r\n",
      "      Reason:\t\tError\r\n",
      "      Exit Code:\t1\r\n",
      "      Started:\t\tFri, 24 Feb 2017 17:18:00 +0800\r\n",
      "      Finished:\t\tFri, 24 Feb 2017 17:18:01 +0800\r\n",
      "    Ready:\t\tFalse\r\n",
      "    Restart Count:\t6\r\n",
      "    Volume Mounts:\r\n",
      "      /var/run/secrets/kubernetes.io/serviceaccount from default-token-4cjhh (ro)\r\n",
      "    Environment Variables:\r\n",
      "      KAFKA_REST_ZOOKEEPER_CONNECT:\tkafka01:2181,kafka02:2181,kafka03:2181\r\n",
      "      KAFKA_REST_HOST_NAME:\t\tkafka04.teambition.corp\r\n",
      "      KAFKA_REST_LISTENERS:\t\thttp://0.0.0.0:8082\r\n",
      "      KAFKA_REST_SCHEMA_REGISTRY_URL:\thttp://kafka04:8081\r\n",
      "Conditions:\r\n",
      "  Type\t\tStatus\r\n",
      "  Initialized \tTrue \r\n",
      "  Ready \tFalse \r\n",
      "  PodScheduled \tTrue \r\n",
      "Volumes:\r\n",
      "  default-token-4cjhh:\r\n",
      "    Type:\tSecret (a volume populated by a Secret)\r\n",
      "    SecretName:\tdefault-token-4cjhh\r\n",
      "QoS Class:\tBestEffort\r\n",
      "Tolerations:\t<none>\r\n",
      "Events:\r\n",
      "  FirstSeen\tLastSeen\tCount\tFrom\t\t\t\tSubObjectPath\t\t\tType\t\tReason\t\tMessage\r\n",
      "  ---------\t--------\t-----\t----\t\t\t\t-------------\t\t\t--------\t------\t\t-------\r\n",
      "  10m\t\t10m\t\t1\t{default-scheduler }\t\t\t\t\t\tNormal\t\tScheduled\tSuccessfully assigned kafka-rest to k8s-master-dev\r\n",
      "  10m\t\t10m\t\t1\t{kubelet k8s-master-dev}\tspec.containers{kafka-rest}\tNormal\t\tPulling\t\tpulling image \"confluentinc/cp-kafka-rest:3.1.1\"\r\n",
      "  9m\t\t9m\t\t1\t{kubelet k8s-master-dev}\tspec.containers{kafka-rest}\tNormal\t\tPulled\t\tSuccessfully pulled image \"confluentinc/cp-kafka-rest:3.1.1\"\r\n",
      "  9m\t\t9m\t\t1\t{kubelet k8s-master-dev}\tspec.containers{kafka-rest}\tNormal\t\tCreated\t\tCreated container with docker id 8ef11746fdff; Security:[seccomp=unconfined]\r\n",
      "  9m\t\t9m\t\t1\t{kubelet k8s-master-dev}\tspec.containers{kafka-rest}\tNormal\t\tStarted\t\tStarted container with docker id 8ef11746fdff\r\n",
      "  9m\t\t9m\t\t1\t{kubelet k8s-master-dev}\tspec.containers{kafka-rest}\tNormal\t\tCreated\t\tCreated container with docker id 69e7f6a0b5f9; Security:[seccomp=unconfined]\r\n",
      "  9m\t\t9m\t\t1\t{kubelet k8s-master-dev}\tspec.containers{kafka-rest}\tNormal\t\tStarted\t\tStarted container with docker id 69e7f6a0b5f9\r\n",
      "  9m\t\t9m\t\t2\t{kubelet k8s-master-dev}\t\t\t\t\tWarning\t\tFailedSync\tError syncing pod, skipping: failed to \"StartContainer\" for \"kafka-rest\" with CrashLoopBackOff: \"Back-off 10s restarting failed container=kafka-rest pod=kafka-rest_default(2cf72ef4-fa71-11e6-ba86-00163e000fbf)\"\r\n",
      "\r\n",
      "  8m\t8m\t1\t{kubelet k8s-master-dev}\tspec.containers{kafka-rest}\tNormal\tCreated\t\tCreated container with docker id 3fc5d0abd404; Security:[seccomp=unconfined]\r\n",
      "  8m\t8m\t1\t{kubelet k8s-master-dev}\tspec.containers{kafka-rest}\tNormal\tStarted\t\tStarted container with docker id 3fc5d0abd404\r\n",
      "  8m\t8m\t2\t{kubelet k8s-master-dev}\t\t\t\t\tWarning\tFailedSync\tError syncing pod, skipping: failed to \"StartContainer\" for \"kafka-rest\" with CrashLoopBackOff: \"Back-off 20s restarting failed container=kafka-rest pod=kafka-rest_default(2cf72ef4-fa71-11e6-ba86-00163e000fbf)\"\r\n",
      "\r\n",
      "  8m\t8m\t1\t{kubelet k8s-master-dev}\tspec.containers{kafka-rest}\tNormal\tCreated\t\tCreated container with docker id 8f29246df1d6; Security:[seccomp=unconfined]\r\n",
      "  8m\t8m\t1\t{kubelet k8s-master-dev}\tspec.containers{kafka-rest}\tNormal\tStarted\t\tStarted container with docker id 8f29246df1d6\r\n",
      "  8m\t8m\t3\t{kubelet k8s-master-dev}\t\t\t\t\tWarning\tFailedSync\tError syncing pod, skipping: failed to \"StartContainer\" for \"kafka-rest\" with CrashLoopBackOff: \"Back-off 40s restarting failed container=kafka-rest pod=kafka-rest_default(2cf72ef4-fa71-11e6-ba86-00163e000fbf)\"\r\n",
      "\r\n",
      "  7m\t7m\t1\t{kubelet k8s-master-dev}\tspec.containers{kafka-rest}\tNormal\tStarted\t\tStarted container with docker id fde96069afc0\r\n",
      "  7m\t7m\t1\t{kubelet k8s-master-dev}\tspec.containers{kafka-rest}\tNormal\tCreated\t\tCreated container with docker id fde96069afc0; Security:[seccomp=unconfined]\r\n",
      "  7m\t6m\t6\t{kubelet k8s-master-dev}\t\t\t\t\tWarning\tFailedSync\tError syncing pod, skipping: failed to \"StartContainer\" for \"kafka-rest\" with CrashLoopBackOff: \"Back-off 1m20s restarting failed container=kafka-rest pod=kafka-rest_default(2cf72ef4-fa71-11e6-ba86-00163e000fbf)\"\r\n",
      "\r\n",
      "  6m\t6m\t1\t{kubelet k8s-master-dev}\tspec.containers{kafka-rest}\tNormal\tCreated\t\tCreated container with docker id 60ad06a04a69; Security:[seccomp=unconfined]\r\n",
      "  6m\t6m\t1\t{kubelet k8s-master-dev}\tspec.containers{kafka-rest}\tNormal\tStarted\t\tStarted container with docker id 60ad06a04a69\r\n",
      "  6m\t3m\t12\t{kubelet k8s-master-dev}\t\t\t\t\tWarning\tFailedSync\tError syncing pod, skipping: failed to \"StartContainer\" for \"kafka-rest\" with CrashLoopBackOff: \"Back-off 2m40s restarting failed container=kafka-rest pod=kafka-rest_default(2cf72ef4-fa71-11e6-ba86-00163e000fbf)\"\r\n",
      "\r\n",
      "  3m\t3m\t1\t{kubelet k8s-master-dev}\tspec.containers{kafka-rest}\tNormal\tStarted\t\tStarted container with docker id 784a864de6c7\r\n",
      "  9m\t3m\t6\t{kubelet k8s-master-dev}\tspec.containers{kafka-rest}\tNormal\tPulled\t\tContainer image \"confluentinc/cp-kafka-rest:3.1.1\" already present on machine\r\n",
      "  3m\t3m\t1\t{kubelet k8s-master-dev}\tspec.containers{kafka-rest}\tNormal\tCreated\t\tCreated container with docker id 784a864de6c7; Security:[seccomp=unconfined]\r\n",
      "  9m\t1s\t42\t{kubelet k8s-master-dev}\tspec.containers{kafka-rest}\tWarning\tBackOff\t\tBack-off restarting failed docker container\r\n",
      "  3m\t1s\t17\t{kubelet k8s-master-dev}\t\t\t\t\tWarning\tFailedSync\tError syncing pod, skipping: failed to \"StartContainer\" for \"kafka-rest\" with CrashLoopBackOff: \"Back-off 5m0s restarting failed container=kafka-rest pod=kafka-rest_default(2cf72ef4-fa71-11e6-ba86-00163e000fbf)\"\r\n",
      "\r\n"
     ]
    }
   ],
   "source": [
    "kubectl describe pods kafka-rest"
   ]
  },
  {
   "cell_type": "code",
   "execution_count": null,
   "metadata": {
    "collapsed": true
   },
   "outputs": [],
   "source": []
  }
 ],
 "metadata": {
  "anaconda-cloud": {},
  "kernelspec": {
   "display_name": "Bash",
   "language": "bash",
   "name": "bash"
  },
  "language_info": {
   "codemirror_mode": "shell",
   "file_extension": ".sh",
   "mimetype": "text/x-sh",
   "name": "bash"
  }
 },
 "nbformat": 4,
 "nbformat_minor": 1
}
